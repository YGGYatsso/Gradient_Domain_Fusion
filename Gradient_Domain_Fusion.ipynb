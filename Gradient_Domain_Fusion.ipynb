{
  "nbformat": 4,
  "nbformat_minor": 0,
  "metadata": {
    "colab": {
      "provenance": []
    },
    "kernelspec": {
      "name": "python3",
      "display_name": "Python 3"
    },
    "language_info": {
      "name": "python"
    }
  },
  "cells": [
    {
      "cell_type": "code",
      "execution_count": 149,
      "metadata": {
        "id": "sFAkvn9hhS4V"
      },
      "outputs": [],
      "source": [
        "import cv2\n",
        "import numpy as np\n",
        "import matplotlib.pyplot as plt\n",
        "%matplotlib inline\n",
        "import os\n",
        "from random import random\n",
        "import time\n",
        "import scipy as sp\n",
        "import scipy.sparse.linalg\n",
        "from typing import List, Tuple\n",
        "from google.colab.patches import cv2_imshow\n",
        "import random"
      ]
    },
    {
      "cell_type": "code",
      "source": [
        "def read_image(path:str ,  mask=False ):\n",
        "  if  mask:\n",
        "    #read in 2D format and convert it to binary masking format\n",
        "    img = cv2.imread(path, cv2.IMREAD_GRAYSCALE)\n",
        "    _, binary_mask = cv2.threshold(img, 127, 255, cv2.THRESH_BINARY)\n",
        "    return np.where(binary_mask == 255, 1, 0)\n",
        "\n",
        "  else :\n",
        "    #read the image\n",
        "    img=cv2.imread(path)/255.0 # no need to input size , this reads input as bgr format(for both source and target image).\n",
        "    return img"
      ],
      "metadata": {
        "id": "iWrEd0ZVMq8R"
      },
      "execution_count": 110,
      "outputs": []
    },
    {
      "cell_type": "code",
      "source": [
        "def neighbours(i: int, j: int,hs: int, ws: int,it: int, jt: int ,ht: int , wt: int , offset=False)->List[Tuple[int,int]] :\n",
        "    \"\"\"\n",
        "    Returns 4-connected neighbours for given pixel point.\n",
        "    :param i: i-th index position\n",
        "    :param j: j-th index position\n",
        "    :param max_i: max possible i-th index position\n",
        "    :param max_j: max possible j-th index position\n",
        "    \"\"\"\n",
        "    pairs = []\n",
        "    pairt=[]\n",
        "\n",
        "    for n in [-1, 1]:\n",
        "        if 0 <= i+n <= hs-1 and 0<=it+n <=ht-1:\n",
        "          pairs.append((i+n, j))\n",
        "          pairt.append((it+n,jt))\n",
        "        if 0 <= j+n <= ws-1 and 0<=jt+n<=wt-1:\n",
        "          pairs.append((i, j+n))\n",
        "          pairt.append((it,jt+n))\n",
        "\n",
        "    return pairs,pairt"
      ],
      "metadata": {
        "id": "M0tqtGbG-YqL"
      },
      "execution_count": 199,
      "outputs": []
    },
    {
      "cell_type": "code",
      "source": [],
      "metadata": {
        "id": "8lNL4TpaUeIS"
      },
      "execution_count": 112,
      "outputs": []
    },
    {
      "cell_type": "code",
      "source": [
        "def mask_bounds(mask)->list[int,int,int,int]:\n",
        "  h,w=mask.shape\n",
        "  up,down,left,right=-1,-1,-1,-1\n",
        "\n",
        "  for i in range(h):\n",
        "    arr=mask[i,:]\n",
        "\n",
        "    if np.sum(arr)>0 :\n",
        "      # there was a mask pixel\n",
        "      if up==-1:\n",
        "        up=i\n",
        "      else :\n",
        "        down=i\n",
        "\n",
        "  for i in range(w):\n",
        "    arr=mask[:,i]\n",
        "\n",
        "    if np.sum(arr)>0:\n",
        "      #there was a mask pixel\n",
        "      if left==-1:\n",
        "        left=i\n",
        "      else :\n",
        "        right=i\n",
        "\n",
        "  return [left,right,up,down]\n",
        "\n",
        "\n",
        "# can we reduce the size function  ?"
      ],
      "metadata": {
        "id": "tq6Szutv9xLF"
      },
      "execution_count": 113,
      "outputs": []
    },
    {
      "cell_type": "code",
      "source": [
        "def startpoint_noffset(mask_limits,target_img) -> List[int,int]:\n",
        "  #mask limits is a list of integers\n",
        "\n",
        "  h,w= target_img.shape[0:2]\n",
        "\n",
        "  if h-(mask_limits[3]-mask_limits[2]) <0 or w -(mask_limits[1]-mask_limits[0]) <0 :\n",
        "       return 0  # mask size doesnot fit into , target_image,\n",
        "  elif h-(mask_limits[3]-mask_limits[2])==0  and w-(mask_limits[1]-mask_limits[0])==0 :\n",
        "    return 1 # mask covers whole target image, you won't have any boundary conditions from your target image.\n",
        "  else:\n",
        "   y,x=0,0\n",
        "   y= h-(mask_limits[3]-mask_limits[2]+1)\n",
        "   x= w-(mask_limits[1]-mask_limits[0]+1)\n",
        "   return 2,[y,x]\n",
        "  #   mask fits into the target image, and ther will be some boundary conditions available too\n"
      ],
      "metadata": {
        "id": "TIUqBmRmOhBt"
      },
      "execution_count": 203,
      "outputs": []
    },
    {
      "cell_type": "code",
      "source": [
        "def poisson_maskoffset(mask, image_src, image_t , mix_grad=False, cut_paste=False) ->np.ndarray :\n",
        "  # mask position is shifted in translation way only.\n",
        "\n",
        "  np.random.seed(10)\n",
        "  assert mask.shape[0:2]==image_src.shape[0:2] , \"mask and source images should be of the same shape\"\n",
        "\n",
        "  N=np.sum(mask) # no of masked pixels\n",
        "  h_s,w_s=image_src.shape[0:2]\n",
        "\n",
        "  r,c=np.where(mask==1 ) # masked pixel positions (r,c) , for source image\n",
        "\n",
        "\n",
        "  arr_t=-np.ones(image_t.shape[0:2],dtype='int32')\n",
        "  h_t,w_t=image_t.shape[0:2]\n",
        "  mask_t=np.zeros((h_t,w_t),dtype=np.uint8)\n",
        "\n",
        "  arr_s=-np.ones(image_src.shape[0:2],dtype='int32')\n",
        "\n",
        "  arr_s[mask>0]=np.arange(N) # mapping indices to all the masked pixels in the source image\n",
        "\n",
        "  # first get the bounds for mask area:\n",
        "\n",
        "  limit=mask_bounds(mask) #  [left,right,up,down]\n",
        "\n",
        "  status,available_offset=startpoint_noffset(limit,mask)\n",
        "\n",
        "\n",
        "  if status==0:\n",
        "    raise Exception(\"Blend cannot happen , as mask shape is bigger than target image \")\n",
        "  else :\n",
        "    x=np.random.choice(available_offset[1]+1,1).astype(int) # choosing one value out of all possible horizontal movement , manual  choice [0]\n",
        "    y=np.random.choice(available_offset[0]+1,1).astype(int) # choosing one value out of all possible vertical movement , manual choice [0]\n",
        "    # random choice can be changedd based on the value fed fo np.random.see(?)\n",
        "\n",
        "    # translating mask from source object to , target image .\n",
        "    mask_t[y[0]:y[0]+(limit[3]-limit[2]+1),x[0]:x[0]+(limit[1]-limit[0]+1) ] =mask [limit[2]:limit[3]+1 ,limit[0]:limit[1]+1]\n",
        "    #mask generation is done\n",
        "    arr_t[mask_t>0]=arr_s[mask>0]\n",
        "\n",
        "  #before poisson blend , let's try copy pasting .\n",
        "\n",
        "  print(N)\n",
        "\n",
        "  if cut_paste:\n",
        "    cut_copy=image_t.copy()\n",
        "    for i in range(N):\n",
        "      #print(i)\n",
        "      R,C=r[i],c[i]\n",
        "      index=arr_s[R][C] # index value of the pixel from source image\n",
        "      one,two,three=image_src[R][C][0],image_src[R][C][1], image_src[R][C][2]\n",
        "\n",
        "      Rt,Ct=np.where(arr_t==index)\n",
        "      Rt=Rt[0]\n",
        "      Ct=Ct[0]\n",
        "      #print(Rt,Ct)\n",
        "      cut_copy[Rt][Ct][0],cut_copy[Rt][Ct][1],cut_copy[Rt][Ct][2]=one,two,three\n",
        "    return   cut_copy\n",
        "\n",
        "\n",
        "  #time to apply poisson blend ,\n",
        "  else:\n",
        "    poisson_blend=image_t.copy()\n",
        "    b = np.zeros(int(4*N))\n",
        "    A=sp.sparse.lil_matrix((int(4*N),N))\n",
        "    ind=0\n",
        "    for i in range(N):\n",
        "\n",
        "      #print(i)\n",
        "\n",
        "      R,C=r[i],c[i] # we got the pixel locations from source image\n",
        "\n",
        "      index=arr_s[R][C] # index value of the pixel from source image\n",
        "\n",
        "      Rt,Ct=np.where(arr_t==index)\n",
        "      Rt=Rt[0]\n",
        "      Ct=Ct[0]\n",
        "      #time to find their neghbour  :\n",
        "      pairs,pairt=neighbours(R,C,h_s,w_s,Rt,Ct,h_t,w_t,False)\n",
        "      # R,c or Rt,Ct are mapped to same index\n",
        "      for j in range(len(pairs)) :\n",
        "        #i will get tuple\n",
        "        A[ind,arr_t[Rt][Ct]]=1\n",
        "\n",
        "        nr_s,nc_s=pairs[j]\n",
        "        nr_t,nc_t=pairt[j]\n",
        "\n",
        "        grads=image_src[R][C] - image_src[nr_s][nc_s]\n",
        "        gradt=image_t[Rt][Ct]-image_t[nr_t][nc_t]\n",
        "        #print(grad)\n",
        "        if mix_grad:\n",
        "          b[ind]=grads if abs(grads) > abs(gradt) else gradt\n",
        "        else :\n",
        "          b[ind]=grads\n",
        "        if arr_t[nr_t][nc_t]==-1:\n",
        "          # it is a specific boundary value , it will not change whether we are trying mix grad or normal grad fusion .\n",
        "          b[ind]+=(image_t[nr_t][nc_t]/1)\n",
        "        else :\n",
        "          # it is a unknown pixel value which needs to be determined\n",
        "          A[ind,arr_t[nr_t][nc_t]]=-1\n",
        "\n",
        "        ind+=1\n",
        "    A = sp.sparse.csr_matrix(A)\n",
        "    X = sp.sparse.linalg.lsqr(A, b)[0]\n",
        "\n",
        "    New_target=image_t.copy()\n",
        "\n",
        "    for i in range(N):\n",
        "      R,C=r[i],c[i]\n",
        "      index=arr_s[R][C] # we got the index , find their location , in the target image\n",
        "      new_r,new_c=np.where(arr_t==index)\n",
        "      New_target[new_r[0]][new_c[0]]=X[index]\n",
        "\n",
        "    return np.clip(New_target,0,1)\n"
      ],
      "metadata": {
        "id": "LdBS7eXQ8OkP"
      },
      "execution_count": null,
      "outputs": []
    },
    {
      "cell_type": "code",
      "source": [
        "mask=read_image('/content/mask1.jpg',True)\n",
        "bg = read_image('/content/img1.jpg')\n",
        "obj = read_image('/content/img2.jpg')"
      ],
      "metadata": {
        "id": "qwx4ksYXQROC"
      },
      "execution_count": 187,
      "outputs": []
    },
    {
      "cell_type": "code",
      "source": [
        "g=poisson_maskoffset(mask, obj, bg , False,True)"
      ],
      "metadata": {
        "colab": {
          "base_uri": "https://localhost:8080/"
        },
        "id": "Ir-AMv8yWZXr",
        "outputId": "1773486d-da2c-48e4-afb1-2130faca863c"
      },
      "execution_count": 188,
      "outputs": [
        {
          "output_type": "stream",
          "name": "stdout",
          "text": [
            "18347\n"
          ]
        }
      ]
    },
    {
      "cell_type": "code",
      "source": [
        "cv2_imshow(np.uint8(g*255.0)) # cut paste image"
      ],
      "metadata": {
        "id": "uhJayqa-YxD5"
      },
      "execution_count": null,
      "outputs": []
    },
    {
      "cell_type": "code",
      "source": [
        "take=np.zeros(bg.shape)\n",
        "for i in range(3):\n",
        "  take[:,:,i]=poisson_maskoffset(mask,obj[:,:,i],bg[:,:,i].copy(),True,False)\n",
        "  print(i)"
      ],
      "metadata": {
        "id": "lHIl3Y4LQRSh"
      },
      "execution_count": null,
      "outputs": []
    },
    {
      "cell_type": "code",
      "source": [
        "cv2_imshow(np.uint8(take*255.0))\n",
        "#mix gradient blending"
      ],
      "metadata": {
        "id": "ojTiyyEOYzd9"
      },
      "execution_count": null,
      "outputs": []
    },
    {
      "cell_type": "code",
      "source": [
        "take=np.zeros(bg.shape)\n",
        "for i in range(3):\n",
        "  take[:,:,i]=poisson_maskoffset(mask,obj[:,:,i],bg[:,:,i].copy(),False,False)\n",
        "  print(i)"
      ],
      "metadata": {
        "id": "hHgB4ZCGQUde"
      },
      "execution_count": null,
      "outputs": []
    },
    {
      "cell_type": "code",
      "source": [
        "cv2_imshow(np.uint8(take*255.0))\n",
        "#poisson blending"
      ],
      "metadata": {
        "id": "SoDPEmE1UBEQ"
      },
      "execution_count": null,
      "outputs": []
    },
    {
      "cell_type": "code",
      "source": [],
      "metadata": {
        "id": "YbH3cnW3QilN"
      },
      "execution_count": null,
      "outputs": []
    },
    {
      "cell_type": "code",
      "source": [
        "\"\"\"# next thing how to map indices to them , so that we can apply filtering in better way .\n",
        "def  poison_blend(mask,image_src,image_t,mix_grad=False ,offset=[0,0]):\n",
        "  #mask and source  image should be of same size\n",
        "\n",
        "  assert mask.shape==image_src.shape , \"mask and the source images should  be of the same shape\"\n",
        "  #\n",
        "  #limit=mask_bounds(mask)\n",
        "\n",
        "  #start_noffset=startpoint_noffset(limit,image_t,image_src)\n",
        "\n",
        "  N=np.sum(mask) # no of masked pixels\n",
        "\n",
        "\n",
        "  r,c=np.where(mask==1) # pixels positions (r,c) , where it is masked\n",
        "\n",
        "  max_R,max_C=image_src.shape # mask and source image are of same sizefdc bcdvgs\n",
        "\n",
        "  arr=-np.ones(image_t.shape[0:2] , dtype='int32')\n",
        "\n",
        "  #change  the mask offset as per the target image\n",
        "  #mask_t=target_mask(mask,image_t,limit)\n",
        "\n",
        "  arr[mask>0]=np.arange(N) # mapping indices to all masked pixels , it will help us in creating arr\n",
        "\n",
        "  b = np.zeros(int(4*N))\n",
        "  A=sp.sparse.lil_matrix((int(4*N),N))\n",
        "\n",
        "  ind=0\n",
        "\n",
        "  for i in range(N):\n",
        "    R,C=r[i],c[i] # got the pixels position\n",
        "\n",
        "    #print(R,C)\n",
        "    #print(arr[R][C])\n",
        "    index=arr[R][C] # index value of the pixel\n",
        "\n",
        "    #get its neighbors\n",
        "    pair=neighbours(R,C,max_R-1,max_C-1)\n",
        "\n",
        "    #A[ind,arr[R][C]]=1\n",
        "\n",
        "    for j in pair :\n",
        "      #i will get tuple\n",
        "      A[ind,arr[R][C]]=1\n",
        "      nr,nc=j\n",
        "      grads=image_src[R][C] - image_src[nr][nc]\n",
        "      gradt=image_t[R][C]-image_t[nr][nc]\n",
        "      #print(grad)\n",
        "      if mix_grad:\n",
        "        b[ind]=grads if abs(grads) > abs(gradt) else gradt\n",
        "      else :\n",
        "        b[ind]=grads\n",
        "      if arr[nr][nc]==-1:\n",
        "        # it is a specific boundary value , it will not change whether we are trying mix grad or normal grad fusion .\n",
        "        b[ind]+=(image_t[nr][nc]/1)\n",
        "      else :\n",
        "        # it is a unknown pixel value which needs to be determined\n",
        "        A[ind,arr[nr][nc]]=-1\n",
        "\n",
        "      ind+=1\n",
        "\n",
        "\n",
        "  A = sp.sparse.csr_matrix(A)\n",
        "  X = sp.sparse.linalg.lsqr(A, b)[0]\n",
        "\n",
        "  New_target=image_t.copy()\n",
        "\n",
        "  for i in range(N):\n",
        "    R,C=r[i],c[i]\n",
        "    New_target[R][C]=X[arr[R][C]]\n",
        "\n",
        "  return np.clip(New_target, 0, 1)\n",
        "\"\"\"\n"
      ],
      "metadata": {
        "id": "f1eFQnXc9v9i",
        "colab": {
          "base_uri": "https://localhost:8080/",
          "height": 122
        },
        "outputId": "d56f5349-7cd6-4aae-ec4c-4878f312123f"
      },
      "execution_count": 195,
      "outputs": [
        {
          "output_type": "execute_result",
          "data": {
            "text/plain": [
              "'# next thing how to map indices to them , so that we can apply filtering in better way .\\ndef  poison_blend(mask,image_src,image_t,mix_grad=False ,offset=[0,0]):\\n  #mask and source  image should be of same size\\n\\n  assert mask.shape==image_src.shape , \"mask and the source images should  be of the same shape\"\\n  #\\n  #limit=mask_bounds(mask)\\n\\n  #start_noffset=startpoint_noffset(limit,image_t,image_src)\\n\\n  N=np.sum(mask) # no of masked pixels\\n\\n\\n  r,c=np.where(mask==1) # pixels positions (r,c) , where it is masked\\n\\n  max_R,max_C=image_src.shape # mask and source image are of same sizefdc bcdvgs\\n\\n  arr=-np.ones(image_t.shape[0:2] , dtype=\\'int32\\')\\n  \\n  #change  the mask offset as per the target image \\n  #mask_t=target_mask(mask,image_t,limit)\\n\\n  arr[mask>0]=np.arange(N) # mapping indices to all masked pixels , it will help us in creating arr\\n\\n  b = np.zeros(int(4*N))\\n  A=sp.sparse.lil_matrix((int(4*N),N))\\n\\n  ind=0\\n\\n  for i in range(N):\\n    R,C=r[i],c[i] # got the pixels position\\n\\n    #print(R,C)\\n    #print(arr[R][C])\\n    index=arr[R][C] # index value of the pixel\\n\\n    #get its neighbors\\n    pair=neighbours(R,C,max_R-1,max_C-1)\\n\\n    #A[ind,arr[R][C]]=1\\n\\n    for j in pair :\\n      #i will get tuple\\n      A[ind,arr[R][C]]=1\\n      nr,nc=j\\n      grads=image_src[R][C] - image_src[nr][nc]\\n      gradt=image_t[R][C]-image_t[nr][nc]\\n      #print(grad)\\n      if mix_grad:\\n        b[ind]=grads if abs(grads) > abs(gradt) else gradt\\n      else :\\n        b[ind]=grads\\n      if arr[nr][nc]==-1:\\n        # it is a specific boundary value , it will not change whether we are trying mix grad or normal grad fusion .\\n        b[ind]+=(image_t[nr][nc]/1)\\n      else :\\n        # it is a unknown pixel value which needs to be determined\\n        A[ind,arr[nr][nc]]=-1\\n\\n      ind+=1\\n\\n\\n  A = sp.sparse.csr_matrix(A)\\n  X = sp.sparse.linalg.lsqr(A, b)[0]\\n\\n  New_target=image_t.copy()\\n\\n  for i in range(N):\\n    R,C=r[i],c[i]\\n    New_target[R][C]=X[arr[R][C]]\\n\\n  return np.clip(New_target, 0, 1)\\n'"
            ],
            "application/vnd.google.colaboratory.intrinsic+json": {
              "type": "string"
            }
          },
          "metadata": {},
          "execution_count": 195
        }
      ]
    }
  ]
}